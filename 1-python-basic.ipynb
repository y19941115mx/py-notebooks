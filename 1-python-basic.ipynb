{
 "cells": [
  {
   "attachments": {
    "3932e492-2585-412e-95b1-d6f6172e0428.png": {
     "image/png": "[encoded data removed]"
    }
   },
   "cell_type": "markdown",
   "metadata": {},
   "source": [
    "我们在学习编程语言的时候，可以认为每一种电脑编程语言都是和计算机交流的一种方言，编程语言的目的是为了`指示`计算机按照我们的诉求，帮助我们完成工作\n",
    "\n",
    "[编程体验](https://www.bilibili.com/video/BV1b4411f7Px)\n",
    "\n",
    "编程= 数据结构+算法， 数据结构是现实世界元素在计算机世界中的抽象表示，而算法描述了处理问题的逻辑，二者的结合形成完整的`计算机指令`\n",
    "\n",
    "![image.png](attachment:3932e492-2585-412e-95b1-d6f6172e0428.png)\n",
    "\n",
    "\n",
    "类似数学里的函数y=f(x)，计算机只能做数学上的运算（名字的由来），现实问题需要先要使用数学建模，才能使用计算机解决"
   ]
  },
  {
   "cell_type": "markdown",
   "metadata": {
    "tags": []
   },
   "source": [
    "## python 的数据结构\n",
    "\n",
    "抽象是计算机学习的两大法宝之一，，数据结构是现实世界元素在计算机世界中的抽象表示\n",
    "\n",
    "而在 python这门语言，一切皆对象，统一使用`对象`这一概念来抽象表示现实世界中的事物\n",
    "\n",
    "而对象的创建则基于对象的类型，何为对象的类型，可以结合柏拉图的理型论:\n",
    "\n",
    ">柏拉图认为，人类认知的现实世界靠感觉和理性，但感觉是表面的、片面的、虚幻的，也是不完美的，而理性思考，则可以慢慢认清事物的本质，并发现事物背后那个看不见摸不着的抽象概念，这就是“理型”。理型\n",
    "世界不会变化，而现实世界则是不断变化的\n",
    "\n",
    "例如，猫有各种各样，为什么我们会认为它们都是“猫”？ 柏拉图认为，现实世界背后有一个对应的理型世界，存在一个猫的理型。简单来说，理型就把是一个事物的属性、行为抽象出来的概念\n",
    "\n",
    "类似理型世界的概念，从具体到抽象，`类型`是编程世界对现实世界中事物的抽象表示，对象是从类型中派生出来的具体事物\n"
   ]
  },
  {
   "cell_type": "code",
   "execution_count": 17,
   "metadata": {
    "tags": []
   },
   "outputs": [
    {
     "name": "stdout",
     "output_type": "stream",
     "text": [
      "1.0\n",
      "1\n"
     ]
    },
    {
     "data": {
      "text/plain": [
       "\u001b[1;31mType:\u001b[0m        float\n",
       "\u001b[1;31mString form:\u001b[0m 1.0\n",
       "\u001b[1;31mDocstring:\u001b[0m   Convert a string or number to a floating point number, if possible."
      ]
     },
     "metadata": {},
     "output_type": "display_data"
    }
   ],
   "source": [
    "# 对象的初始化      \n",
    "num1 = float(1)\n",
    "print(num1)\n",
    "\n",
    "num2 = int(1)\n",
    "print(num2)"
   ]
  },
  {
   "attachments": {
    "f7be81b2-7fac-4713-9089-bd6e668030ce.png": {
     "image/png": "[encoded data removed]"
    }
   },
   "cell_type": "markdown",
   "metadata": {},
   "source": [
    "## python 中的内置数据类型\n",
    "\n",
    "在学习怎么自定义创建类型之前，我们首先熟悉一下python语言为我们提供的那些内置的数据类型\n",
    "\n",
    "首先理解变量的定义，变量就是一个标识，类似web页面中ip与域名的关系，变量和域名一样能够表达语义，更容易被人类理解和使用\n",
    "\n",
    "![image.png](attachment:f7be81b2-7fac-4713-9089-bd6e668030ce.png)\n",
    "\n",
    "对于代码来说，计算机只会机械的执行命令，真正会阅读代码的是人类，使用具备语义化的变量组织代码，能够极大提高代码的可阅读性\n",
    "\n",
    "python通过 `=` 赋值操作为变量约束一个值，这里的值可以是任何对象 通过给变量约束一个对象 相当于将这个变量与实际对象做关联"
   ]
  },
  {
   "cell_type": "code",
   "execution_count": 5,
   "metadata": {
    "tags": []
   },
   "outputs": [
    {
     "name": "stdout",
     "output_type": "stream",
     "text": [
      "端午\n"
     ]
    }
   ],
   "source": [
    "cat = \"端午\" # 将cat变量与字符串对象：`端午`做关联\n",
    "print(cat) # 访问变量 cat 就相当于访问字符串对象\"端午\""
   ]
  },
  {
   "cell_type": "markdown",
   "metadata": {
    "tags": []
   },
   "source": [
    "> 思考题!   \n",
    "> 以下两种写法的区别"
   ]
  },
  {
   "cell_type": "code",
   "execution_count": null,
   "metadata": {},
   "outputs": [],
   "source": [
    "# demo1\n",
    "cat = \"端午\"\n",
    "print(cat)\n",
    "\n",
    "# demo2\n",
    "print(\"端午\")"
   ]
  },
  {
   "cell_type": "code",
   "execution_count": 7,
   "metadata": {
    "tags": []
   },
   "outputs": [
    {
     "name": "stdout",
     "output_type": "stream",
     "text": [
      "1619452263856\n",
      "1619454772304\n"
     ]
    }
   ],
   "source": [
    "# 判断两个对象是否为同一个对象\n",
    "print(id(cat))\n",
    "print(id(\"端午\")"
   ]
  },
  {
   "cell_type": "markdown",
   "metadata": {},
   "source": [
    "考虑如果想要复用`端午`这个字符串对象进行多次打印应该怎么做，体会使用变量表示对象的合理性"
   ]
  },
  {
   "cell_type": "markdown",
   "metadata": {
    "tags": []
   },
   "source": [
    "### 基本数据类型\n",
    "* int\n",
    "* float\n",
    "* bool\n",
    "* str"
   ]
  },
  {
   "cell_type": "code",
   "execution_count": 10,
   "metadata": {
    "tags": []
   },
   "outputs": [
    {
     "name": "stdout",
     "output_type": "stream",
     "text": [
      "<class 'int'> <class 'float'> <class 'bool'> <class 'str'>\n"
     ]
    }
   ],
   "source": [
    "a = 1\n",
    "b = 3.2\n",
    "c = True\n",
    "d = \"victor\"\n",
    "\n",
    "print(type(a),type(b),type(c),type(d))"
   ]
  },
  {
   "cell_type": "markdown",
   "metadata": {},
   "source": [
    "### 序列数据类型\n",
    "\n",
    "一个可以放置任意数据类型的有序集合\n",
    "\n",
    "* list\n",
    "* tuple\n",
    "\n",
    "具备： 下标访问，切片，in判断，len判断，迭代 等性质的顺序表结构\n",
    "\n",
    "1. 列表 [1,2,3] list: 是有序的 本质是元素个数可变的动态顺序表结构，具备高效的下标访问速度，插入时使用 list 自带的 append 方法效率较高。列表中的元素可以是任何对象\n",
    "\n",
    "2. 元祖 (1,) tuple: 本质是不变的列表\n",
    "\n",
    "3. 字符串也是序列数据类型 本质是元素个数不变的一体式的顺序表结构"
   ]
  },
  {
   "cell_type": "code",
   "execution_count": 16,
   "metadata": {
    "tags": []
   },
   "outputs": [
    {
     "name": "stdout",
     "output_type": "stream",
     "text": [
      "<class 'list'> <class 'tuple'>\n"
     ]
    }
   ],
   "source": [
    "num_list = [1, 2, 3]\n",
    "\n",
    "num_tuple = (1, 2, 3)\n",
    "\n",
    "print(type(num_list), type(num_tuple))"
   ]
  },
  {
   "cell_type": "code",
   "execution_count": null,
   "metadata": {},
   "outputs": [],
   "source": [
    "# 对象方法练习"
   ]
  },
  {
   "cell_type": "markdown",
   "metadata": {
    "tags": []
   },
   "source": [
    "### 集合类型\n",
    "\n",
    "类似字典的数据结构,字典是一系列由键（key）和值（value）配对组成的元素的集合, 集合可以看作是没有值只有键的字典集合\n",
    "\n",
    "* dict\n",
    "* set\n",
    "\n",
    "1. 集合{1,2,3} set 是无序的 而且集合中的元素不重复 集合中的元素只能是不变对象 不支持下标取值操作集合支持的特殊操作：\n",
    "差集： {1，2，3} - {1}\n",
    "交集： {1，2，3} & {1，2}\n",
    "并集： {1，2，3} | {1，4} \n",
    "注意 定义空集合的方式：set() 使用 {} 是定义空字典\n",
    "\n",
    "2. 字典 {1: 2} key：value 类型 dict 是无序的，可以通过下标Key 访问Value，dict的key只能是不可变对象，value 可以是任何对象。\n",
    "```python\n",
    "//字典排序 将字典转化成 元祖列表 再排序。\n",
    "dict_1= {\"Alice\": 15, \"Jerry\": 35, \"Wendy\": 25}\n",
    "sorted(dict_1.items(), key=lambda item: item[1])\n",
    "```"
   ]
  },
  {
   "cell_type": "code",
   "execution_count": null,
   "metadata": {},
   "outputs": [],
   "source": [
    "num_list = [1, 2, 3]\n",
    "\n",
    "num_tuple = (1, 2, 3)\n",
    "\n",
    "print(type(num_list), type(num_tuple))"
   ]
  },
  {
   "cell_type": "code",
   "execution_count": null,
   "metadata": {},
   "outputs": [],
   "source": [
    "# 对象方法练习"
   ]
  },
  {
   "cell_type": "markdown",
   "metadata": {},
   "source": [
    "### 对象类型的划分\n",
    "\n",
    "python 中内置的数据对象 按照对象的行为主要有两大阵营；\n",
    "\n",
    "* 不可变对象：int,string,float,tuple\n",
    "* 可变对象：list,dict,set\n",
    "\n",
    "```python\n",
    "a = 'ABC'\n",
    "b = a\n",
    "a = 'XYZ'\n",
    "print(b)\n",
    "```\n",
    "\n",
    "结果是 'ABC', 因为在修改指向不可变对象的变量时，会产生新的对象，再将要修改的变量重新指向新的对象\n"
   ]
  },
  {
   "cell_type": "code",
   "execution_count": null,
   "metadata": {},
   "outputs": [],
   "source": [
    "# 演示\n"
   ]
  },
  {
   "cell_type": "markdown",
   "metadata": {
    "tags": []
   },
   "source": [
    "## 函数的概念\n",
    "\n",
    "函数是最基本的一种代码抽象的方式"
   ]
  },
  {
   "cell_type": "markdown",
   "metadata": {},
   "source": [
    "### 条件判断逻辑\n",
    "https://www.liaoxuefeng.com/wiki/1016959663602400/1017099478626848"
   ]
  },
  {
   "cell_type": "markdown",
   "metadata": {},
   "source": [
    ">小明身高1.75，体重80.5kg。请根据BMI公式（体重除以身高的平方）帮小明计算他的BMI指数，并根据BMI指数  \n",
    "低于18.5：过轻  \n",
    "18.5-25：正常  \n",
    "25-28：过重  \n",
    "28-32：肥胖  \n",
    "高于32：严重肥胖  \n",
    "用if-elif判断并打印结果 要求"
   ]
  },
  {
   "cell_type": "code",
   "execution_count": null,
   "metadata": {},
   "outputs": [],
   "source": []
  },
  {
   "cell_type": "markdown",
   "metadata": {},
   "source": [
    "### 循环逻辑\n",
    "https://www.liaoxuefeng.com/wiki/1016959663602400/1017100774566304\n",
    "\n",
    "> 找到1000以内的所有素数 输出为list列表"
   ]
  },
  {
   "cell_type": "code",
   "execution_count": null,
   "metadata": {},
   "outputs": [],
   "source": [
    "# 练习"
   ]
  },
  {
   "cell_type": "markdown",
   "metadata": {},
   "source": [
    "函数的定义\n",
    "https://www.liaoxuefeng.com/wiki/1016959663602400/1017105451316128\n",
    "\n",
    "函数的参数\n",
    "https://blog.csdn.net/cadi2011/article/details/84871401"
   ]
  },
  {
   "cell_type": "code",
   "execution_count": null,
   "metadata": {},
   "outputs": [],
   "source": [
    "# 练习"
   ]
  },
  {
   "cell_type": "markdown",
   "metadata": {},
   "source": [
    "## python 代码组织结构\n",
    "包（有__init__.py 的文件夹） -> 模块(py文件) -> 类（一个py文件可以有多个类） \n",
    "\n",
    "    主 module，也就是程序运行的入口py文件\n",
    "\n",
    "#### 1. 导入方式\n",
    "    import a as XX\n",
    "    from package.module import xx * \n",
    "\n",
    "\n",
    "#### 2. __init__.py 文件的作用\n",
    "\n",
    "1. 包的初始化 与 批量导入\n",
    "Python首次导入某个目录时，会自动执行该目录下__init__.py文件所有程序的代码。这类文件就是放置包类文件所需要初始化的代码的场所。\n",
    "\n",
    "\n",
    "2. 模块命名空间的初始化\n",
    "在包导入模型中，脚本内的目录路径，在导入后会变成真实的嵌套对象路径。比如，在包test的__init__.py中定义了a = 1，那么，在我们import test之后，可以得到\n",
    "``` python\n",
    "import test\n",
    "test.a\n",
    "```\n",
    "3. 定义from*语句的行为\n",
    "可以在__init__.py中使用__all__列表定义目录以 from package import *导入时，是导入哪些模块。若定义了\n",
    "__all__ = [\"Module1\", \"Module2\", \"subPackage1\", \"subPackage2\"]\n",
    "\n",
    "当使用from package import *时，就会默认导入\"Module1\", \"Module2\", \"subPackage1\", \"subPackage2\"模块。\n",
    "\n",
    "**注意:**\n",
    "\n",
    "包和模块是不会重复导入的\n",
    "导入模块时 模块中的代码都会执行\n"
   ]
  },
  {
   "cell_type": "markdown",
   "metadata": {},
   "source": [
    "## 课后练习题\n",
    "\n",
    "> 编写python脚本，实现一个日期计算器 给定一个由年月日组成的日期，再给你一个数字 X，准确地让程序输出 X 天后的日期\n"
   ]
  },
  {
   "cell_type": "markdown",
   "metadata": {},
   "source": [
    "据对任务的理解，分成两步来思考这个问题：第一步：思考如何求解 1 天后的日期，在求解 1 天后日期的过程中，我们涉及到的核心问题就是判断日子是否跨月，月份是否跨年，即判断；第二步：是要让计算机重复 X 次 1 天后日期的计算过程，即重复循环做这件事\n",
    "\n",
    "闰年：能被 4 整除，但不能被 100 整除；能被 400 整除。"
   ]
  },
  {
   "cell_type": "markdown",
   "metadata": {},
   "source": []
  }
 ],
 "metadata": {
  "kernelspec": {
   "display_name": "Python 3 (ipykernel)",
   "language": "python",
   "name": "python3"
  },
  "language_info": {
   "codemirror_mode": {
    "name": "ipython",
    "version": 3
   },
   "file_extension": ".py",
   "mimetype": "text/x-python",
   "name": "python",
   "nbconvert_exporter": "python",
   "pygments_lexer": "ipython3",
   "version": "3.10.10"
  }
 },
 "nbformat": 4,
 "nbformat_minor": 4
}
